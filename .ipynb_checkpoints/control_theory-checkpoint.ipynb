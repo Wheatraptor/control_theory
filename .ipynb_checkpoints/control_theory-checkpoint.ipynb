{
 "cells": [
  {
   "cell_type": "code",
   "execution_count": 1,
   "id": "9d0a2f38",
   "metadata": {},
   "outputs": [],
   "source": [
    "import numpy as np\n",
    "import sympy as sp \n",
    "import numpy.linalg as la\n",
    "from IPython.display import display, Math, Latex\n",
    "from fractions import Fraction"
   ]
  },
  {
   "cell_type": "code",
   "execution_count": 2,
   "id": "6b5e0d8c",
   "metadata": {},
   "outputs": [],
   "source": [
    "fractor = np.vectorize(Fraction)\n",
    "defractor = np.vectorize(float)\n",
    "\n",
    "def str_to_np(x_raw):\n",
    "    x_rows = list(filter(None, x_raw.split('\\n')))\n",
    "    x = np.array(list(map(lambda x: list(map(int, x.split())), x_rows)))\n",
    "    return x\n",
    "\n",
    "def texmaker(x):\n",
    "    x = x.astype(str) # если значения числовые, при приведении к обыкновенным дробям может получиться некрасиво\n",
    "    x = fractor(x)\n",
    "    tex = '\\\\begin{bmatrix}\\n  '\n",
    "    for row in x:\n",
    "        for ind, el in enumerate(row):\n",
    "            if el.denominator != 1:\n",
    "                n = str(el.numerator)\n",
    "                d = str(el.denominator)\n",
    "                tex += r'\\frac{' + n + '}{' + d + '}'\n",
    "                if ind < len(row)-1:\n",
    "                    tex += ' &  '\n",
    "            else:\n",
    "                n = str(el.numerator)\n",
    "                tex += n\n",
    "                if ind < len(row)-1:\n",
    "                    tex += ' &  '\n",
    "        tex += '\\\\\\\\\\n  '\n",
    "    tex += '\\n\\\\end{bmatrix}'\n",
    "    return tex \n",
    "\n",
    "def texfrac(x):\n",
    "    x = Fraction(str(x))\n",
    "    if x.denominator != 1:\n",
    "        n = str(x.numerator)\n",
    "        d = str(x.denominator)\n",
    "        tex = r'\\frac{' + n + '}{' + d + '}'\n",
    "    else:\n",
    "        n = str(x.numerator)\n",
    "        tex = n\n",
    "    return tex\n",
    "\n",
    "def texpoly(x):\n",
    "    pow = len(x) - 1\n",
    "    tex = '\\chi(\\lambda) = '\n",
    "    for i in range(len(x)):\n",
    "        if x[i] != 0:    #если коэффициент 0 то не пишем слагаемое\n",
    "            pref = ''\n",
    "            postf = ''\n",
    "            if i == 0:    # начинаем со знака\n",
    "                if x[i] < 0:\n",
    "                    pref += '-'\n",
    "            else:\n",
    "                if x[i] > 0:\n",
    "                    pref += ' +'\n",
    "                else:\n",
    "                    pref += ' -'\n",
    "            if x[i] != 1:\n",
    "                pref += str(abs(x[i]))\n",
    "            pow = len(x) - i - 1\n",
    "            if pow > 1:\n",
    "                tex += pref + '\\lambda^{' + str(pow) + '}'\n",
    "            elif pow == 1:\n",
    "                tex += pref + '\\lambda'\n",
    "            else:\n",
    "                tex += pref\n",
    "                if x[i] == 1:\n",
    "                    tex += ' 1'\n",
    "            \n",
    "#         if x[i] == 0:\n",
    "#             pass\n",
    "#         elif x[i] == 1:\n",
    "#             tex += '\\lambda^' + str(pow - i)\n",
    "#         elif x[i] == -1:\n",
    "#             tex += '-\\lambda^' + str(pow - i)\n",
    "#         elif x[i] > 0 and :\n",
    "#             tex += '-\\lambda^' + str(pow - i)\n",
    "#         else:\n",
    "#             tex += str(x[i]) + '\\lambda^' + str(pow - i)\n",
    "#         if pow - i == 1:\n",
    "#             tex = tex[:-2]    # УЖАСНО!!!! отрезаем первые степени\n",
    "#         elif pow - i == 0:\n",
    "#             tex = tex[:-9]    # ЕЩЕ УЖАСНЕЕ!!!! отрезаем нулевые степени\n",
    "    tex = tex.replace('=  +', '=  ')\n",
    "    return tex\n",
    "\n",
    "def calculate_c(a, b):\n",
    "    display(Math(r'\\Large \\mathfrak{C} = [B, AB, A^2B, ... A^{n-1}]'))\n",
    "    c_size = a.shape[0]\n",
    "    c_goth = b.copy()\n",
    "    for i in range(1, c_size):\n",
    "        tmp = np.matmul(la.matrix_power(a, i), b)\n",
    "        c_goth = np.concatenate((c_goth, tmp), axis=1)\n",
    "    display(Math(r'\\Large \\mathfrak{C} = ' + texmaker(c_goth)))\n",
    "    return c_goth\n",
    "\n",
    "def kalman_decomposition(a, b, c_goth = None):\n",
    "    if not c_goth:\n",
    "        c_goth = calculate_c(a, b)\n",
    "    c_rank = la.matrix_rank(c_goth)\n",
    "    c_size = a.shape[0]\n",
    "    display(Math(r'\\Large Rank(\\mathfrak{C}) = ' + str(c_rank)))\n",
    "    display(Latex(r'Подпространство управляемых состояний - $\\mathbb{R^' + str(c_rank)+'}$'))\n",
    "    display(Latex(r'Подпространство неуправляемых состояний - $\\mathbb{R^' + str(c_goth.shape[0]-c_rank)+'}$'))\n",
    "    display(Latex(r'Проверим, является ли система стабилизируемой. Дополняем  до  линейно  независимой  системы:'))\n",
    "    _, inds = sp.Matrix(c_goth).rref()   # нахождение линейно зависимых векторов\n",
    "    s = c_goth[:, inds]\n",
    "    for i in range(c_size - len(inds)):    # каждый проход приклеивается вектор\n",
    "        for j in range(c_size):    # пробуем единичные векторы \n",
    "            s_temp = s.copy()\n",
    "            test_vec = np.zeros((1, c_size), dtype = int)\n",
    "            test_vec[0, c_size - 1 - j] += 1 \n",
    "            s_temp = np.concatenate((s_temp, test_vec.T), axis=1)\n",
    "            if la.matrix_rank(s_temp) == len(inds) + 1 +i:\n",
    "                s = np.concatenate((s, test_vec.T), axis=1)\n",
    "                break\n",
    "                \n",
    "    display(Math(r'\\Large S = ' + texmaker(s)))\n",
    "    a_hat = np.matmul(np.matmul(fractor(la.inv(s)), fractor(a)), s)\n",
    "    display(Math(r'\\Large \\hat{A} = S^{-1}AS = '\n",
    "                 + texmaker(la.inv(s)) + texmaker(a)\n",
    "                 + texmaker(s) + ' = '+ texmaker(a_hat)))\n",
    "    b_hat = np.matmul(fractor(la.inv(s)), fractor(b))\n",
    "    display(Math(r'\\Large \\hat{B} = S^{-1}B = '\n",
    "                 + texmaker(la.inv(s)) + texmaker(b) \n",
    "                 + ' = ' + texmaker(b_hat)))\n",
    "    display(Math(r'\\Large \\hat{\\dot{x}} = ' + texmaker(a_hat) + '\\hat{x} + '\n",
    "                + texmaker(b_hat) + '\\hat{u}'))\n",
    "    unc_sp = a_hat[c_rank:, c_rank:]\n",
    "    con_sp = a_hat[:c_rank, :c_rank]\n",
    "    unc_eig, _ = la.eig(unc_sp.astype(float))\n",
    "    display(Latex(r'Управляемое подпространство:'))\n",
    "    display(Math(texmaker(con_sp)))\n",
    "    display(Latex(r'Неуправляемое подпространство:'))\n",
    "    display(Math(texmaker(unc_sp)))\n",
    "    display(Latex(r'Собственные числа неуправляемого подпространства:'))\n",
    "    unc_eig, _ = la.eig(unc_sp.astype(float))\n",
    "    ev_str = ''\n",
    "    for i, ev in enumerate(unc_eig):\n",
    "        ev_str += '\\lambda_' + str(i+1) + ' = ' + texfrac(ev) + ','    # ужасно...\n",
    "    display(Latex(r'Собственные числа неуправляемого подпространства:'))\n",
    "    display(Math(ev_str[:-1]))    #КОСТЫЛЬ!!!! который убирает запятую в конце (кринж)\n",
    "    \n",
    "    if (unc_eig > 0).any():\n",
    "        display(Latex(r'Присутствуют неотрицательные собственные числа. Следовательно неуправляемая система не стабилизируема.'))\n",
    "    else:\n",
    "        display(Latex(r'Все собственные числа отрицательные. Значит неуправляемая часть устойчива и неуправляемая система стабилизируема.')) \n",
    "    \n",
    "def frobenius_form(a, b, c_goth = None):\n",
    "    if not c_goth:\n",
    "        c_goth = calculate_c(a, b)\n",
    "    c_rank = la.matrix_rank(c_goth)\n",
    "    display(Math(r'\\Large Rank(\\mathfrak{C}) = ' + str(c_rank)))\n",
    "    display(Latex(r'По алгебраическому критерию управляемости Калмана система управляема. Приведем её к канонической форме Фробениуса-Люенбегра:'))\n",
    "    \n",
    "    display(Latex(r'Строим характеристический полином матрицы управляемости'))\n",
    "    M = sp.Matrix(a)\n",
    "    lamda = sp.symbols('lamda')\n",
    "    p = M.charpoly(lamda)\n",
    "    p_coeffs = p.all_coeffs()\n",
    "    display(Math(texpoly(p_coeffs)))\n",
    "    if p_coeffs[0] < 0:\n",
    "        display(Latex(r'Первый коэффициент характеристического полинома отрицательный, домножаем на -1:'))\n",
    "        p_coeffs = [-cof for cof in p_coeffs]\n",
    "        display(Math(texpoly(p_coeffs)))\n",
    "    bot_row = [-p_coeffs[-i] for i in range(1, c_rank + 1)]\n",
    "    a_wave = np.concatenate((np.delete(np.identity(c_rank), 0, axis=0), [bot_row]), axis=0)\n",
    "    display(Math(r'\\Large \\widetilde{A} = ' + texmaker(a_wave)))"
   ]
  },
  {
   "cell_type": "code",
   "execution_count": null,
   "id": "8a0d2a37",
   "metadata": {},
   "outputs": [],
   "source": []
  },
  {
   "cell_type": "code",
   "execution_count": 5,
   "id": "1412fd8b",
   "metadata": {},
   "outputs": [
    {
     "data": {
      "text/latex": [
       "$\\displaystyle \\Large \\dot{x} = \\begin{bmatrix}\n",
       "  4 &  4 &  6\\\\\n",
       "  2 &  1 &  1\\\\\n",
       "  -4 &  -3 &  -5\\\\\n",
       "  \n",
       "\\end{bmatrix}x + \\begin{bmatrix}\n",
       "  -1\\\\\n",
       "  0\\\\\n",
       "  1\\\\\n",
       "  \n",
       "\\end{bmatrix}u$"
      ],
      "text/plain": [
       "<IPython.core.display.Math object>"
      ]
     },
     "metadata": {},
     "output_type": "display_data"
    }
   ],
   "source": [
    "a_raw = '''\n",
    "4 4 6\n",
    "2 1 1\n",
    "-4 -3 -5\n",
    "'''\n",
    "\n",
    "b_raw = '''\n",
    "-1\n",
    "0\n",
    "1\n",
    "'''\n",
    "a = str_to_np(a_raw)\n",
    "b = str_to_np(b_raw)\n",
    "display(Math(r'\\Large \\dot{x} = ' + texmaker(a) + 'x + '\n",
    "            + texmaker(b) + 'u'))"
   ]
  },
  {
   "cell_type": "code",
   "execution_count": 7,
   "id": "314abb1a",
   "metadata": {},
   "outputs": [
    {
     "data": {
      "text/latex": [
       "$\\displaystyle \\Large \\mathfrak{C} = [B, AB, A^2B, ... A^{n-1}]$"
      ],
      "text/plain": [
       "<IPython.core.display.Math object>"
      ]
     },
     "metadata": {},
     "output_type": "display_data"
    },
    {
     "data": {
      "text/latex": [
       "$\\displaystyle \\Large \\mathfrak{C} = \\begin{bmatrix}\n",
       "  -1 &  2 &  -2\\\\\n",
       "  0 &  -1 &  2\\\\\n",
       "  1 &  -1 &  0\\\\\n",
       "  \n",
       "\\end{bmatrix}$"
      ],
      "text/plain": [
       "<IPython.core.display.Math object>"
      ]
     },
     "metadata": {},
     "output_type": "display_data"
    }
   ],
   "source": [
    "_ = calculate_c(a, b)"
   ]
  },
  {
   "cell_type": "code",
   "execution_count": 85,
   "id": "b88a27ff",
   "metadata": {},
   "outputs": [
    {
     "data": {
      "text/latex": [
       "$\\displaystyle \\Large \\mathfrak{C} = [B, AB, A^2B, ... A^{n-1}]$"
      ],
      "text/plain": [
       "<IPython.core.display.Math object>"
      ]
     },
     "metadata": {},
     "output_type": "display_data"
    },
    {
     "data": {
      "text/latex": [
       "$\\displaystyle \\Large \\mathfrak{C} = \\begin{bmatrix}\n",
       "  0 &  -2 &  -4\\\\\n",
       "  1 &  1 &  5\\\\\n",
       "  1 &  -3 &  -3\\\\\n",
       "  \n",
       "\\end{bmatrix}$"
      ],
      "text/plain": [
       "<IPython.core.display.Math object>"
      ]
     },
     "metadata": {},
     "output_type": "display_data"
    },
    {
     "data": {
      "text/latex": [
       "$\\displaystyle \\Large Rank(\\mathfrak{C}) = 2$"
      ],
      "text/plain": [
       "<IPython.core.display.Math object>"
      ]
     },
     "metadata": {},
     "output_type": "display_data"
    },
    {
     "data": {
      "text/latex": [
       "Подпространство управляемых состояний - $\\mathbb{R^2}$"
      ],
      "text/plain": [
       "<IPython.core.display.Latex object>"
      ]
     },
     "metadata": {},
     "output_type": "display_data"
    },
    {
     "data": {
      "text/latex": [
       "Подпространство неуправляемых состояний - $\\mathbb{R^1}$"
      ],
      "text/plain": [
       "<IPython.core.display.Latex object>"
      ]
     },
     "metadata": {},
     "output_type": "display_data"
    },
    {
     "data": {
      "text/latex": [
       "Проверим, является ли система стабилизируемой. Дополняем  до  линейно  независимой  системы:"
      ],
      "text/plain": [
       "<IPython.core.display.Latex object>"
      ]
     },
     "metadata": {},
     "output_type": "display_data"
    },
    {
     "data": {
      "text/latex": [
       "$\\displaystyle \\Large S = \\begin{bmatrix}\n",
       "  0 &  -2 &  0\\\\\n",
       "  1 &  1 &  0\\\\\n",
       "  1 &  -3 &  1\\\\\n",
       "  \n",
       "\\end{bmatrix}$"
      ],
      "text/plain": [
       "<IPython.core.display.Math object>"
      ]
     },
     "metadata": {},
     "output_type": "display_data"
    },
    {
     "data": {
      "text/latex": [
       "$\\displaystyle \\Large \\hat{A} = S^{-1}AS = \\begin{bmatrix}\n",
       "  \\frac{1}{2} &  1 &  0\\\\\n",
       "  \\frac{-1}{2} &  0 &  0\\\\\n",
       "  -2 &  -1 &  1\\\\\n",
       "  \n",
       "\\end{bmatrix}\\begin{bmatrix}\n",
       "  1 &  -2 &  0\\\\\n",
       "  -2 &  1 &  0\\\\\n",
       "  2 &  -2 &  -1\\\\\n",
       "  \n",
       "\\end{bmatrix}\\begin{bmatrix}\n",
       "  0 &  -2 &  0\\\\\n",
       "  1 &  1 &  0\\\\\n",
       "  1 &  -3 &  1\\\\\n",
       "  \n",
       "\\end{bmatrix} = \\begin{bmatrix}\n",
       "  0 &  3 &  0\\\\\n",
       "  1 &  2 &  0\\\\\n",
       "  0 &  0 &  -1\\\\\n",
       "  \n",
       "\\end{bmatrix}$"
      ],
      "text/plain": [
       "<IPython.core.display.Math object>"
      ]
     },
     "metadata": {},
     "output_type": "display_data"
    },
    {
     "data": {
      "text/latex": [
       "$\\displaystyle \\Large \\hat{B} = S^{-1}B = \\begin{bmatrix}\n",
       "  \\frac{1}{2} &  1 &  0\\\\\n",
       "  \\frac{-1}{2} &  0 &  0\\\\\n",
       "  -2 &  -1 &  1\\\\\n",
       "  \n",
       "\\end{bmatrix}\\begin{bmatrix}\n",
       "  0\\\\\n",
       "  1\\\\\n",
       "  1\\\\\n",
       "  \n",
       "\\end{bmatrix} = \\begin{bmatrix}\n",
       "  1\\\\\n",
       "  0\\\\\n",
       "  0\\\\\n",
       "  \n",
       "\\end{bmatrix}$"
      ],
      "text/plain": [
       "<IPython.core.display.Math object>"
      ]
     },
     "metadata": {},
     "output_type": "display_data"
    },
    {
     "data": {
      "text/latex": [
       "$\\displaystyle \\Large \\hat{\\dot{x}} = \\begin{bmatrix}\n",
       "  0 &  3 &  0\\\\\n",
       "  1 &  2 &  0\\\\\n",
       "  0 &  0 &  -1\\\\\n",
       "  \n",
       "\\end{bmatrix}\\hat{x} + \\begin{bmatrix}\n",
       "  1\\\\\n",
       "  0\\\\\n",
       "  0\\\\\n",
       "  \n",
       "\\end{bmatrix}\\hat{u}$"
      ],
      "text/plain": [
       "<IPython.core.display.Math object>"
      ]
     },
     "metadata": {},
     "output_type": "display_data"
    },
    {
     "data": {
      "text/latex": [
       "Управляемое подпространство:"
      ],
      "text/plain": [
       "<IPython.core.display.Latex object>"
      ]
     },
     "metadata": {},
     "output_type": "display_data"
    },
    {
     "data": {
      "text/latex": [
       "$\\displaystyle \\begin{bmatrix}\n",
       "  0 &  3\\\\\n",
       "  1 &  2\\\\\n",
       "  \n",
       "\\end{bmatrix}$"
      ],
      "text/plain": [
       "<IPython.core.display.Math object>"
      ]
     },
     "metadata": {},
     "output_type": "display_data"
    },
    {
     "data": {
      "text/latex": [
       "Неуправляемое подпространство:"
      ],
      "text/plain": [
       "<IPython.core.display.Latex object>"
      ]
     },
     "metadata": {},
     "output_type": "display_data"
    },
    {
     "data": {
      "text/latex": [
       "$\\displaystyle \\begin{bmatrix}\n",
       "  -1\\\\\n",
       "  \n",
       "\\end{bmatrix}$"
      ],
      "text/plain": [
       "<IPython.core.display.Math object>"
      ]
     },
     "metadata": {},
     "output_type": "display_data"
    },
    {
     "data": {
      "text/latex": [
       "Собственные числа неуправляемого подпространства:"
      ],
      "text/plain": [
       "<IPython.core.display.Latex object>"
      ]
     },
     "metadata": {},
     "output_type": "display_data"
    },
    {
     "data": {
      "text/latex": [
       "Собственные числа неуправляемого подпространства:"
      ],
      "text/plain": [
       "<IPython.core.display.Latex object>"
      ]
     },
     "metadata": {},
     "output_type": "display_data"
    },
    {
     "data": {
      "text/latex": [
       "$\\displaystyle \\lambda_1 = -1$"
      ],
      "text/plain": [
       "<IPython.core.display.Math object>"
      ]
     },
     "metadata": {},
     "output_type": "display_data"
    },
    {
     "data": {
      "text/latex": [
       "Все собственные числа отрицательные. Значит неуправляемая часть устойчива и неуправляемая система стабилизируема."
      ],
      "text/plain": [
       "<IPython.core.display.Latex object>"
      ]
     },
     "metadata": {},
     "output_type": "display_data"
    }
   ],
   "source": [
    "kalman_decomposition(a, b)"
   ]
  },
  {
   "cell_type": "code",
   "execution_count": 4,
   "id": "9ff10455",
   "metadata": {},
   "outputs": [
    {
     "data": {
      "text/latex": [
       "$\\displaystyle \\Large \\mathfrak{C} = [B, AB, A^2B, ... A^{n-1}]$"
      ],
      "text/plain": [
       "<IPython.core.display.Math object>"
      ]
     },
     "metadata": {},
     "output_type": "display_data"
    },
    {
     "data": {
      "text/latex": [
       "$\\displaystyle \\Large \\mathfrak{C} = \\begin{bmatrix}\n",
       "  -1 &  1 &  12\\\\\n",
       "  1 &  1 &  9\\\\\n",
       "  0 &  3 &  15\\\\\n",
       "  \n",
       "\\end{bmatrix}$"
      ],
      "text/plain": [
       "<IPython.core.display.Math object>"
      ]
     },
     "metadata": {},
     "output_type": "display_data"
    },
    {
     "data": {
      "text/latex": [
       "$\\displaystyle \\Large Rank(\\mathfrak{C}) = 3$"
      ],
      "text/plain": [
       "<IPython.core.display.Math object>"
      ]
     },
     "metadata": {},
     "output_type": "display_data"
    },
    {
     "data": {
      "text/latex": [
       "По алгебраическому критерию управляемости Калмана система управляема. Приведем её к канонической форме Фробениуса-Люенбегра:"
      ],
      "text/plain": [
       "<IPython.core.display.Latex object>"
      ]
     },
     "metadata": {},
     "output_type": "display_data"
    },
    {
     "data": {
      "text/latex": [
       "Строим характеристический полином матрицы управляемости"
      ],
      "text/plain": [
       "<IPython.core.display.Latex object>"
      ]
     },
     "metadata": {},
     "output_type": "display_data"
    },
    {
     "data": {
      "text/latex": [
       "$\\displaystyle \\chi(\\lambda) = \\lambda^{3} -7\\lambda^{2} +6\\lambda -3$"
      ],
      "text/plain": [
       "<IPython.core.display.Math object>"
      ]
     },
     "metadata": {},
     "output_type": "display_data"
    },
    {
     "data": {
      "text/latex": [
       "$\\displaystyle \\Large \\widetilde{A} = \\begin{bmatrix}\n",
       "  0 &  1 &  0\\\\\n",
       "  0 &  0 &  1\\\\\n",
       "  3 &  -6 &  7\\\\\n",
       "  \n",
       "\\end{bmatrix}$"
      ],
      "text/plain": [
       "<IPython.core.display.Math object>"
      ]
     },
     "metadata": {},
     "output_type": "display_data"
    }
   ],
   "source": [
    "frobenius_form(a, b)"
   ]
  },
  {
   "cell_type": "code",
   "execution_count": 103,
   "id": "8d4c22ef",
   "metadata": {},
   "outputs": [
    {
     "data": {
      "text/plain": [
       "'\\\\chi(\\\\lambda) =  +2\\\\lambda^{2} + 1'"
      ]
     },
     "execution_count": 103,
     "metadata": {},
     "output_type": "execute_result"
    }
   ],
   "source": [
    "texpoly([0, 2, 0, 1])"
   ]
  },
  {
   "cell_type": "code",
   "execution_count": 107,
   "id": "7280b3fe",
   "metadata": {},
   "outputs": [
    {
     "data": {
      "text/latex": [
       "$\\displaystyle \\chi(\\lambda) =   1$"
      ],
      "text/plain": [
       "<IPython.core.display.Math object>"
      ]
     },
     "metadata": {},
     "output_type": "display_data"
    }
   ],
   "source": [
    "display(Math(texpoly([0, 0, 0, 1])))"
   ]
  },
  {
   "cell_type": "code",
   "execution_count": 84,
   "id": "4b77287d",
   "metadata": {},
   "outputs": [
    {
     "data": {
      "text/latex": [
       "$\\displaystyle \\Large \\dot{x} = \\begin{bmatrix}\n",
       "  1 &  -2 &  0\\\\\n",
       "  -2 &  1 &  0\\\\\n",
       "  2 &  -2 &  -1\\\\\n",
       "  \n",
       "\\end{bmatrix}x + \\begin{bmatrix}\n",
       "  0\\\\\n",
       "  1\\\\\n",
       "  1\\\\\n",
       "  \n",
       "\\end{bmatrix}u$"
      ],
      "text/plain": [
       "<IPython.core.display.Math object>"
      ]
     },
     "metadata": {},
     "output_type": "display_data"
    }
   ],
   "source": [
    "a_raw = '''\n",
    "1 -2 0\n",
    "-2 1 0\n",
    "2 -2 -1\n",
    "'''\n",
    "\n",
    "b_raw = '''\n",
    "0\n",
    "1\n",
    "1\n",
    "'''\n",
    "a = str_to_np(a_raw)\n",
    "b = str_to_np(b_raw)\n",
    "display(Math(r'\\Large \\dot{x} = ' + texmaker(a) + 'x + '\n",
    "            + texmaker(b) + 'u'))"
   ]
  },
  {
   "cell_type": "code",
   "execution_count": 3,
   "id": "9f1983a4",
   "metadata": {},
   "outputs": [
    {
     "data": {
      "text/latex": [
       "$\\displaystyle \\Large \\dot{x} = \\begin{bmatrix}\n",
       "  1 &  2 &  3\\\\\n",
       "  1 &  2 &  2\\\\\n",
       "  0 &  3 &  4\\\\\n",
       "  \n",
       "\\end{bmatrix}x + \\begin{bmatrix}\n",
       "  -1\\\\\n",
       "  1\\\\\n",
       "  0\\\\\n",
       "  \n",
       "\\end{bmatrix}u$"
      ],
      "text/plain": [
       "<IPython.core.display.Math object>"
      ]
     },
     "metadata": {},
     "output_type": "display_data"
    }
   ],
   "source": [
    "a_raw = '''\n",
    "1 2 3\n",
    "1 2 2\n",
    "0 3 4\n",
    "'''\n",
    "\n",
    "b_raw = '''\n",
    "-1\n",
    "1\n",
    "0\n",
    "'''\n",
    "a = str_to_np(a_raw)\n",
    "b = str_to_np(b_raw)\n",
    "display(Math(r'\\Large \\dot{x} = ' + texmaker(a) + 'x + '\n",
    "            + texmaker(b) + 'u'))"
   ]
  },
  {
   "cell_type": "code",
   "execution_count": 84,
   "id": "b53b14c4",
   "metadata": {},
   "outputs": [
    {
     "data": {
      "text/plain": [
       "(array([[0, 1, 1],\n",
       "        [1, 4, 5],\n",
       "        [2, 0, 3]]),\n",
       " array([[0],\n",
       "        [1],\n",
       "        [0]]))"
      ]
     },
     "execution_count": 84,
     "metadata": {},
     "output_type": "execute_result"
    }
   ],
   "source": [
    "a = str_to_np(a_raw)\n",
    "b = str_to_np(b_raw)\n",
    "a, b"
   ]
  },
  {
   "cell_type": "code",
   "execution_count": 85,
   "id": "63b84c48",
   "metadata": {},
   "outputs": [
    {
     "data": {
      "text/latex": [
       "$\\displaystyle \\begin{bmatrix}\n",
       "  0\\\\\n",
       "  1\\\\\n",
       "  0\\\\\n",
       "  \n",
       "\\end{bmatrix}$"
      ],
      "text/plain": [
       "<IPython.core.display.Math object>"
      ]
     },
     "metadata": {},
     "output_type": "display_data"
    }
   ],
   "source": [
    "display(Math(texmaker(b)))"
   ]
  },
  {
   "cell_type": "code",
   "execution_count": 81,
   "id": "de8ce5e5",
   "metadata": {},
   "outputs": [
    {
     "data": {
      "text/latex": [
       "$\\displaystyle \\Large\\mathfrak{C}$"
      ],
      "text/plain": [
       "<IPython.core.display.Math object>"
      ]
     },
     "metadata": {},
     "output_type": "display_data"
    }
   ],
   "source": [
    "display(Math(r'\\Large\\mathfrak{C}'))"
   ]
  },
  {
   "cell_type": "code",
   "execution_count": 97,
   "id": "60c576c9",
   "metadata": {},
   "outputs": [
    {
     "data": {
      "text/plain": [
       "array([[ 0,  4,  0],\n",
       "       [ 0, 17,  0],\n",
       "       [ 0,  2,  0]])"
      ]
     },
     "execution_count": 97,
     "metadata": {},
     "output_type": "execute_result"
    }
   ],
   "source": [
    "la.matrix_power(a, 2) * b.T"
   ]
  },
  {
   "cell_type": "code",
   "execution_count": 279,
   "id": "d715c178",
   "metadata": {},
   "outputs": [],
   "source": [
    "# c_size = a.shape[0]\n",
    "# c_goth = b.copy()\n",
    "\n",
    "# for i in range(1, c_size):\n",
    "#     tmp = np.matmul(la.matrix_power(a, i), b)\n",
    "#     c_goth = np.concatenate((c_goth, tmp), axis=1)\n",
    "    \n",
    "# c_rank = la.matrix_rank(c_goth)\n",
    "# display(Math(r'\\Large \\mathfrak{C} = ' + texmaker(c_goth) + r'\\\\ \\Large Rank(\\mathfrak{C}) = ' + str(c_rank)))\n",
    "# _, inds = sympy.Matrix(c_goth).rref()   # нахождение линейно зависимых векторов\n",
    "# s = c_goth[:, inds]\n",
    "# for i in range(c_size - len(inds)):    # каждый проход приклеивается вектор\n",
    "#     for j in range(c_size):    # пробуем единичные векторы \n",
    "#         s_temp = s.copy()\n",
    "#         test_vec = np.zeros((1, c_size), dtype = int)\n",
    "#         test_vec[0, c_size - 1 - j] += 1 \n",
    "#         s_temp = np.concatenate((s_temp, test_vec.T), axis=1)\n",
    "#         if la.matrix_rank(s_temp) == len(inds) + 1 +i:\n",
    "#             s = np.concatenate((s, test_vec.T), axis=1)\n",
    "#             break\n",
    "\n",
    "# display(Math(r'\\Large S = ' + texmaker(s) + r'\\\\ \\Large Rank(S) = ' + str(la.matrix_rank(s))))"
   ]
  },
  {
   "cell_type": "code",
   "execution_count": 211,
   "id": "bebf59cd",
   "metadata": {},
   "outputs": [
    {
     "data": {
      "text/latex": [
       "$\\displaystyle \\Large \\hat{A} = \\begin{bmatrix}\n",
       "  0 &  3 &  2\\\\\n",
       "  1 &  2 &  1\\\\\n",
       "  0 &  0 &  -2\\\\\n",
       "  \n",
       "\\end{bmatrix}$"
      ],
      "text/plain": [
       "<IPython.core.display.Math object>"
      ]
     },
     "metadata": {},
     "output_type": "display_data"
    },
    {
     "data": {
      "text/latex": [
       "$\\displaystyle \\Large \\hat{B} = \\begin{bmatrix}\n",
       "  1\\\\\n",
       "  0\\\\\n",
       "  0\\\\\n",
       "  \n",
       "\\end{bmatrix}$"
      ],
      "text/plain": [
       "<IPython.core.display.Math object>"
      ]
     },
     "metadata": {},
     "output_type": "display_data"
    }
   ],
   "source": [
    "a_hat = np.matmul(np.matmul(fractor(la.inv(s)), fractor(a)), s)\n",
    "display(Math(r'\\Large \\hat{A} = ' + texmaker(a_hat)))\n",
    "b_hat = np.matmul(fractor(la.inv(s)), fractor(b))\n",
    "display(Math(r'\\Large \\hat{B} = ' + texmaker(b_hat)))"
   ]
  },
  {
   "cell_type": "code",
   "execution_count": 243,
   "id": "b358fed9",
   "metadata": {},
   "outputs": [],
   "source": [
    "texfrac(ev)"
   ]
  },
  {
   "cell_type": "code",
   "execution_count": 247,
   "id": "ec063776",
   "metadata": {},
   "outputs": [
    {
     "data": {
      "text/latex": [
       "$\\displaystyle -2$"
      ],
      "text/plain": [
       "<IPython.core.display.Math object>"
      ]
     },
     "metadata": {},
     "output_type": "display_data"
    },
    {
     "data": {
      "text/plain": [
       "False"
      ]
     },
     "execution_count": 247,
     "metadata": {},
     "output_type": "execute_result"
    }
   ],
   "source": [
    "unc_sp = a_hat[c_rank:, c_rank:]\n",
    "unc_eig, _ = la.eig(unc_sp.astype(float))\n",
    "for ev in unc_eig:\n",
    "    display(Math(texfrac(ev)))\n",
    "(unc_eig > 0).any()"
   ]
  }
 ],
 "metadata": {
  "kernelspec": {
   "display_name": "Python 3 (ipykernel)",
   "language": "python",
   "name": "python3"
  },
  "language_info": {
   "codemirror_mode": {
    "name": "ipython",
    "version": 3
   },
   "file_extension": ".py",
   "mimetype": "text/x-python",
   "name": "python",
   "nbconvert_exporter": "python",
   "pygments_lexer": "ipython3",
   "version": "3.9.7"
  }
 },
 "nbformat": 4,
 "nbformat_minor": 5
}
